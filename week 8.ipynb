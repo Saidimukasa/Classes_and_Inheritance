{
 "cells": [
  {
   "cell_type": "code",
   "execution_count": 22,
   "metadata": {},
   "outputs": [
    {
     "name": "stdout",
     "output_type": "stream",
     "text": [
      "John is 36 years old and from Rwanda\n"
     ]
    }
   ],
   "source": [
    "from logging import exception, raiseExceptions\n",
    "\n",
    "class Person:\n",
    "    def __init__(self,name,age,country) -> None:\n",
    "        # Using the Raise exception when checking for values in the List \n",
    "        # If the Country Given in the Object is Not in the List an error will be Derived basing On the Raise exception\n",
    "        # if country not in [\"USA\",\"Norway\",\"India\"]:\n",
    "        #     raise Exception (\"Invalid country\")\n",
    "        self.name =name\n",
    "        self.age = age\n",
    "        self.country = country\n",
    "        # Using the String method\n",
    "    # def __str__(self) -> str:\n",
    "    #     return f\"{self.name} is {self.age} years old\"\n",
    "    def __repr__(self) -> str:\n",
    "        return f\"{self.name} is {self.age} years old and from {self.country}\"\n",
    "    # Getter--This is used to instatiate \n",
    "    def country(self):\n",
    "      return  self._country\n",
    "    # Creating setters in python\n",
    "    def setname(self,value):\n",
    "        if value not in [\"USA\",\"Norway\",\"India\"]:\n",
    "            raise Exception (\"Invalid country\")\n",
    "        \n",
    "        self._country=value #In python private instaces are Differentiated with double or single underscore\n",
    "        \n",
    "        \n",
    "    \n",
    "person1= Person(\"John\", 36, \"Norway\")\n",
    "person2= Person(\"Mary\", 25, \"USA\")\n",
    "person3= Person(\"Raj\", 30, \"Rwaanda\")\n",
    "person1.country= \"Rwanda\"\n",
    "\n",
    "print(person1)"
   ]
  }
 ],
 "metadata": {
  "kernelspec": {
   "display_name": "Python 3.7.9 64-bit (microsoft store)",
   "language": "python",
   "name": "python3"
  },
  "language_info": {
   "codemirror_mode": {
    "name": "ipython",
    "version": 3
   },
   "file_extension": ".py",
   "mimetype": "text/x-python",
   "name": "python",
   "nbconvert_exporter": "python",
   "pygments_lexer": "ipython3",
   "version": "3.7.9"
  },
  "orig_nbformat": 4,
  "vscode": {
   "interpreter": {
    "hash": "a67075ba25b04be2f08e615617a843c0f6dec76c2e6160850da6f0538e58f149"
   }
  }
 },
 "nbformat": 4,
 "nbformat_minor": 2
}
